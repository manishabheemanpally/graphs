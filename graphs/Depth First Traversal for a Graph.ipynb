{
  "metadata": {
    "kernelspec": {
      "name": "python",
      "display_name": "Python (Pyodide)",
      "language": "python"
    },
    "language_info": {
      "codemirror_mode": {
        "name": "python",
        "version": 3
      },
      "file_extension": ".py",
      "mimetype": "text/x-python",
      "name": "python",
      "nbconvert_exporter": "python",
      "pygments_lexer": "ipython3",
      "version": "3.8"
    }
  },
  "nbformat_minor": 4,
  "nbformat": 4,
  "cells": [
    {
      "cell_type": "code",
      "source": "class Graph:\n    def __init__(self, vertices):\n        self.vertices = vertices\n        self.adjacency_list = [[] for _ in range(vertices)]\n\n    def add_edge(self, source, destination):\n        self.adjacency_list[source].append(destination)\n\n    def dfs_recursive(self, start_vertex, visited):\n        visited[start_vertex] = True\n        print(start_vertex, end=\" \")\n\n        for adjacent_vertex in self.adjacency_list[start_vertex]:\n            if not visited[adjacent_vertex]:\n                self.dfs_recursive(adjacent_vertex, visited)\n\n    def dfs(self, start_vertex):\n        visited = [False] * self.vertices\n        self.dfs_recursive(start_vertex, visited)\n\n\ngraph = Graph(6)\n\ngraph.add_edge(0, 1)\ngraph.add_edge(0, 2)\ngraph.add_edge(1, 3)\ngraph.add_edge(2, 4)\ngraph.add_edge(2, 5)\n\nprint(\"DFS Traversal:\")\ngraph.dfs(0)",
      "metadata": {
        "trusted": true
      },
      "outputs": [
        {
          "name": "stdout",
          "text": "DFS Traversal:\n0 1 3 2 4 5 ",
          "output_type": "stream"
        }
      ],
      "execution_count": 1
    },
    {
      "cell_type": "code",
      "source": "",
      "metadata": {
        "trusted": true
      },
      "outputs": [],
      "execution_count": null
    }
  ]
}