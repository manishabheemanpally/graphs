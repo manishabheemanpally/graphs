{
  "metadata": {
    "kernelspec": {
      "name": "python",
      "display_name": "Python (Pyodide)",
      "language": "python"
    },
    "language_info": {
      "codemirror_mode": {
        "name": "python",
        "version": 3
      },
      "file_extension": ".py",
      "mimetype": "text/x-python",
      "name": "python",
      "nbconvert_exporter": "python",
      "pygments_lexer": "ipython3",
      "version": "3.8"
    }
  },
  "nbformat_minor": 4,
  "nbformat": 4,
  "cells": [
    {
      "cell_type": "code",
      "source": "from collections import deque\n\nclass Node:\n    def __init__(self, value):\n        self.value = value\n        self.left = None\n        self.right = None\n\n\nclass BinaryTree:\n    def __init__(self):\n        self.root = None\n\n    def insert(self, value):\n        if self.root is None:\n            self.root = Node(value)\n        else:\n            self._insert_recursive(self.root, value)\n\n    def _insert_recursive(self, node, value):\n        if value < node.value:\n            if node.left is None:\n                node.left = Node(value)\n            else:\n                self._insert_recursive(node.left, value)\n        else:\n            if node.right is None:\n                node.right = Node(value)\n            else:\n                self._insert_recursive(node.right, value)\n\n    def count_nodes_at_level(self, target_level):\n        if self.root is None:\n            return 0\n\n        level = 1\n        queue = deque()\n        queue.append((self.root, level))\n        count = 0\n\n        while queue:\n            node, node_level = queue.popleft()\n\n            if node_level == target_level:\n                count += 1\n\n            if node.left:\n                queue.append((node.left, node_level + 1))\n            if node.right:\n                queue.append((node.right, node_level + 1))\n\n        return count\n\ntree = BinaryTree()\n\ntree.insert(1)\ntree.insert(2)\ntree.insert(3)\ntree.insert(4)\ntree.insert(5)\ntree.insert(6)\ntree.insert(7)\n\ntarget_level = 2\nnode_count = tree.count_nodes_at_level(target_level)\nprint(\"Number of nodes at level\", target_level, \":\", node_count)",
      "metadata": {
        "trusted": true
      },
      "outputs": [
        {
          "name": "stdout",
          "text": "Number of nodes at level 2 : 1\n",
          "output_type": "stream"
        }
      ],
      "execution_count": 1
    },
    {
      "cell_type": "code",
      "source": "",
      "metadata": {
        "trusted": true
      },
      "outputs": [],
      "execution_count": null
    }
  ]
}