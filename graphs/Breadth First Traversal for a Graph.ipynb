{
  "metadata": {
    "kernelspec": {
      "name": "python",
      "display_name": "Python (Pyodide)",
      "language": "python"
    },
    "language_info": {
      "codemirror_mode": {
        "name": "python",
        "version": 3
      },
      "file_extension": ".py",
      "mimetype": "text/x-python",
      "name": "python",
      "nbconvert_exporter": "python",
      "pygments_lexer": "ipython3",
      "version": "3.8"
    }
  },
  "nbformat_minor": 4,
  "nbformat": 4,
  "cells": [
    {
      "cell_type": "code",
      "source": "from collections import deque\n\nclass Graph:\n    def __init__(self, vertices):\n        self.vertices = vertices\n        self.adjacency_list = [[] for _ in range(vertices)]\n\n    def add_edge(self, source, destination):\n        self.adjacency_list[source].append(destination)\n\n    def bfs(self, start_vertex):\n        visited = [False] * self.vertices\n        queue = deque()\n\n        visited[start_vertex] = True\n        queue.append(start_vertex)\n\n        while queue:\n            current_vertex = queue.popleft()\n            print(current_vertex, end=\" \")\n\n            for adjacent_vertex in self.adjacency_list[current_vertex]:\n                if not visited[adjacent_vertex]:\n                    visited[adjacent_vertex] = True\n                    queue.append(adjacent_vertex)\n\ngraph = Graph(6)\n\ngraph.add_edge(0, 1)\ngraph.add_edge(0, 2)\ngraph.add_edge(1, 3)\ngraph.add_edge(2, 4)\ngraph.add_edge(2, 5)\n\nprint(\"BFS Traversal:\")\ngraph.bfs(0)",
      "metadata": {
        "trusted": true
      },
      "outputs": [
        {
          "name": "stdout",
          "text": "BFS Traversal:\n0 1 2 3 4 5 ",
          "output_type": "stream"
        }
      ],
      "execution_count": 1
    },
    {
      "cell_type": "code",
      "source": "",
      "metadata": {
        "trusted": true
      },
      "outputs": [],
      "execution_count": null
    }
  ]
}